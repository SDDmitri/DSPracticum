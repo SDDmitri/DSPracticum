{
 "cells": [
  {
   "cell_type": "code",
   "execution_count": 1,
   "id": "90488082",
   "metadata": {},
   "outputs": [
    {
     "name": "stderr",
     "output_type": "stream",
     "text": [
      "D:\\12.Progs\\Anaconda\\envs\\practicum\\lib\\site-packages\\scipy\\__init__.py:146: UserWarning: A NumPy version >=1.17.3 and <1.25.0 is required for this version of SciPy (detected version 1.25.2\n",
      "  warnings.warn(f\"A NumPy version >={np_minversion} and <{np_maxversion}\"\n"
     ]
    }
   ],
   "source": [
    "import pandas as pd\n",
    "from tensorflow.keras.layers import Dense, GlobalAveragePooling2D\n",
    "from tensorflow.keras.models import Sequential\n",
    "from tensorflow.keras.preprocessing.image import ImageDataGenerator\n",
    "from tensorflow.keras.applications.resnet import ResNet50\n",
    "from tensorflow.keras.optimizers import Adam"
   ]
  },
  {
   "cell_type": "code",
   "execution_count": 2,
   "id": "8aed59b3",
   "metadata": {},
   "outputs": [],
   "source": [
    "RANDOM_STATE = 270923"
   ]
  },
  {
   "cell_type": "code",
   "execution_count": 3,
   "id": "8d7c1ec2",
   "metadata": {},
   "outputs": [],
   "source": [
    "def load_train(path):\n",
    "    train_datagen = ImageDataGenerator(validation_split=0.25,\n",
    "                                   horizontal_flip=True,\n",
    "                                   rotation_range=45,\n",
    "                                   width_shift_range=0.2,\n",
    "                                   height_shift_range=0.2,\n",
    "                                   rescale=1/255.,\n",
    "                                   zoom_range=0.2\n",
    "                                   )\n",
    "    \n",
    "    train_datagen_flow = train_datagen.flow_from_dataframe(\n",
    "        dataframe= pd.read_csv(path+'/labels.csv'),\n",
    "        directory=path+'/final_files',\n",
    "        x_col='file_name',\n",
    "        y_col='real_age',\n",
    "        batch_size=16,\n",
    "        class_mode='raw',\n",
    "        seed=RANDOM_STATE,\n",
    "        subset='training',\n",
    "        target_size=(224, 224)\n",
    "        )\n",
    "    return train_datagen_flow"
   ]
  },
  {
   "cell_type": "code",
   "execution_count": 4,
   "id": "311c2052",
   "metadata": {},
   "outputs": [],
   "source": [
    "def load_test(path):\n",
    "    test_datagen = ImageDataGenerator(validation_split=0.25,                                   \n",
    "                                      rescale=1/255.\n",
    "                                      )\n",
    "    \n",
    "    test_datagen_flow = test_datagen.flow_from_dataframe(       \n",
    "        dataframe= pd.read_csv(path+'/labels.csv'),\n",
    "        directory=path+'/final_files',\n",
    "        x_col='file_name',\n",
    "        y_col='real_age',\n",
    "        batch_size=16,\n",
    "        class_mode='raw',\n",
    "        seed=RANDOM_STATE,\n",
    "        subset='validation',\n",
    "        target_size=(224, 224)\n",
    "        )\n",
    "    return test_datagen_flow"
   ]
  },
  {
   "cell_type": "code",
   "execution_count": 5,
   "id": "b94918e7",
   "metadata": {},
   "outputs": [],
   "source": [
    "def create_model(input_shape):\n",
    "    backbone = ResNet50(input_shape=input_shape,\n",
    "                        weights='/datasets/keras_models/resnet50_weights_tf_dim_ordering_tf_kernels_notop.h5',\n",
    "                        include_top=False)     \n",
    "    model = Sequential()   \n",
    "    model.add(backbone)\n",
    "    model.add(GlobalAveragePooling2D())    \n",
    "    model.add(Dense(50, activation='relu'))\n",
    "    model.add(Dense(1, activation='relu'))\n",
    "    optimizer = Adam(learning_rate=1e-5)\n",
    "    model.summary()\n",
    "    model.compile(optimizer=optimizer, loss='mean_squared_error', metrics=['mae'])\n",
    "    return model"
   ]
  },
  {
   "cell_type": "code",
   "execution_count": 6,
   "id": "3b4823c8",
   "metadata": {},
   "outputs": [],
   "source": [
    "def train_model(model, train_data, test_data, batch_size=None, epochs=20,\n",
    "               steps_per_epoch=None, validation_steps=None):               \n",
    "\n",
    "    model.fit(train_data, \n",
    "              validation_data=test_data,\n",
    "              batch_size=batch_size, epochs=epochs,\n",
    "              steps_per_epoch=steps_per_epoch,\n",
    "              validation_steps=validation_steps,\n",
    "              verbose=2, shuffle=True)\n",
    "    return model"
   ]
  }
 ],
 "metadata": {
  "kernelspec": {
   "display_name": "Python 3 (ipykernel)",
   "language": "python",
   "name": "python3"
  },
  "language_info": {
   "codemirror_mode": {
    "name": "ipython",
    "version": 3
   },
   "file_extension": ".py",
   "mimetype": "text/x-python",
   "name": "python",
   "nbconvert_exporter": "python",
   "pygments_lexer": "ipython3",
   "version": "3.9.16"
  },
  "toc": {
   "base_numbering": 1,
   "nav_menu": {},
   "number_sections": true,
   "sideBar": true,
   "skip_h1_title": false,
   "title_cell": "Table of Contents",
   "title_sidebar": "Contents",
   "toc_cell": false,
   "toc_position": {},
   "toc_section_display": true,
   "toc_window_display": false
  },
  "varInspector": {
   "cols": {
    "lenName": 16,
    "lenType": 16,
    "lenVar": 40
   },
   "kernels_config": {
    "python": {
     "delete_cmd_postfix": "",
     "delete_cmd_prefix": "del ",
     "library": "var_list.py",
     "varRefreshCmd": "print(var_dic_list())"
    },
    "r": {
     "delete_cmd_postfix": ") ",
     "delete_cmd_prefix": "rm(",
     "library": "var_list.r",
     "varRefreshCmd": "cat(var_dic_list()) "
    }
   },
   "types_to_exclude": [
    "module",
    "function",
    "builtin_function_or_method",
    "instance",
    "_Feature"
   ],
   "window_display": false
  }
 },
 "nbformat": 4,
 "nbformat_minor": 5
}
